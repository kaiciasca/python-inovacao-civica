{
 "cells": [
  {
   "cell_type": "code",
   "execution_count": 1,
   "id": "2fd7d766",
   "metadata": {},
   "outputs": [],
   "source": [
    "#construa um programa que:\n",
    "#pergunte a usuária 2 números inteiros\n",
    "#se o número for divisível por 3, substitua-o por \"tecnologia\"\n",
    "#se o número for divisível por 5, substitua-o número por \"cívica\"\n",
    "#se o número for divisível por 3 e 5 substitua-o por \"tecnologia cívica\""
   ]
  },
  {
   "cell_type": "code",
   "execution_count": 2,
   "id": "53a88ef3",
   "metadata": {},
   "outputs": [
    {
     "name": "stdout",
     "output_type": "stream",
     "text": [
      "Insira um número positivo: 6\n"
     ]
    }
   ],
   "source": [
    "numero_1 = int(input(\"Insira um número positivo: \"))"
   ]
  },
  {
   "cell_type": "code",
   "execution_count": 3,
   "id": "5b367c67",
   "metadata": {},
   "outputs": [
    {
     "name": "stdout",
     "output_type": "stream",
     "text": [
      "Insira outro número positivo: 40\n"
     ]
    }
   ],
   "source": [
    "numero_2 = int(input(\"Insira outro número positivo: \"))"
   ]
  },
  {
   "cell_type": "code",
   "execution_count": 4,
   "id": "9bb6b588",
   "metadata": {},
   "outputs": [],
   "source": [
    "lista = list(range(numero_1, numero_2))"
   ]
  },
  {
   "cell_type": "code",
   "execution_count": 5,
   "id": "a7bf84ca",
   "metadata": {},
   "outputs": [
    {
     "name": "stdout",
     "output_type": "stream",
     "text": [
      "[6, 7, 8, 9, 10, 11, 12, 13, 14, 15, 16, 17, 18, 19, 20, 21, 22, 23, 24, 25, 26, 27, 28, 29, 30, 31, 32, 33, 34, 35, 36, 37, 38, 39]\n"
     ]
    }
   ],
   "source": [
    "print(lista)"
   ]
  },
  {
   "cell_type": "code",
   "execution_count": 6,
   "id": "a4d744e8",
   "metadata": {},
   "outputs": [],
   "source": [
    "lista_atualizada = []"
   ]
  },
  {
   "cell_type": "code",
   "execution_count": 7,
   "id": "37d23feb",
   "metadata": {},
   "outputs": [],
   "source": [
    "for numero in lista:\n",
    "    if numero % 3 == 0 and numero % 5 == 0:\n",
    "        lista_atualizada.append('tecnologia cívica')\n",
    "    elif numero % 3 == 0:\n",
    "        lista_atualizada.append('tecnologia')\n",
    "    elif numero % 5 == 0:\n",
    "        lista_atualizada.append('cívica')\n",
    "    else:\n",
    "        lista_atualizada.append(numero)"
   ]
  },
  {
   "cell_type": "code",
   "execution_count": 8,
   "id": "30bca445",
   "metadata": {
    "scrolled": true
   },
   "outputs": [
    {
     "name": "stdout",
     "output_type": "stream",
     "text": [
      "['tecnologia', 7, 8, 'tecnologia', 'cívica', 11, 'tecnologia', 13, 14, 'tecnologia cívica', 16, 17, 'tecnologia', 19, 'cívica', 'tecnologia', 22, 23, 'tecnologia', 'cívica', 26, 'tecnologia', 28, 29, 'tecnologia cívica', 31, 32, 'tecnologia', 34, 'cívica', 'tecnologia', 37, 38, 'tecnologia']\n"
     ]
    }
   ],
   "source": [
    "print(lista_atualizada)"
   ]
  },
  {
   "cell_type": "code",
   "execution_count": 9,
   "id": "3a1f13aa",
   "metadata": {},
   "outputs": [
    {
     "name": "stdout",
     "output_type": "stream",
     "text": [
      "certôôô miserável\n"
     ]
    }
   ],
   "source": [
    "print('certôôô miserável')"
   ]
  }
 ],
 "metadata": {
  "kernelspec": {
   "display_name": "Python 3 (ipykernel)",
   "language": "python",
   "name": "python3"
  },
  "language_info": {
   "codemirror_mode": {
    "name": "ipython",
    "version": 3
   },
   "file_extension": ".py",
   "mimetype": "text/x-python",
   "name": "python",
   "nbconvert_exporter": "python",
   "pygments_lexer": "ipython3",
   "version": "3.9.6"
  }
 },
 "nbformat": 4,
 "nbformat_minor": 5
}
